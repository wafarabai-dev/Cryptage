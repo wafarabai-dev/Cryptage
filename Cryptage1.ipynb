{
 "cells": [
  {
   "cell_type": "code",
   "execution_count": 2,
   "id": "c065d3cc",
   "metadata": {},
   "outputs": [
    {
     "name": "stdout",
     "output_type": "stream",
     "text": [
      "1M1a5m14\n"
     ]
    }
   ],
   "source": [
    "def crypter(CH):\n",
    "    res = ''\n",
    "    if len(CH) <= 50:\n",
    "        cpt = 1\n",
    "        for i in range(len(CH)-1):\n",
    "            if CH[i] == CH[i+1]:\n",
    "                cpt += 1\n",
    "            else:\n",
    "                res += str(cpt)+CH[i]\n",
    "                cpt = 1\n",
    "        res += str(cpt)+CH[-1]\n",
    "    return res\n",
    " \n",
    " \n",
    "print(crypter(\"Mammmmm4\"))"
   ]
  },
  {
   "cell_type": "markdown",
   "id": "4bca9345",
   "metadata": {},
   "source": [
    "Exercice 2"
   ]
  },
  {
   "cell_type": "code",
   "execution_count": 14,
   "id": "2d159835",
   "metadata": {},
   "outputs": [
    {
     "name": "stdout",
     "output_type": "stream",
     "text": [
      "CBWTG\n"
     ]
    }
   ],
   "source": [
    "def crypter_mc(s):\n",
    "    alpha = 'ABCDEFGHIJKLMNOPQRSTUVWXYZ'\n",
    "    res = ''\n",
    "    for lettre in s:\n",
    "        occurence = s.count(lettre)\n",
    "        pos = 0\n",
    "        if occurence % 2 == 0:\n",
    "            pos = occurence//2\n",
    "        else:\n",
    "            pos = occurence*2\n",
    "        ordre = alpha.find(lettre)\n",
    "        indice = pos+ordre\n",
    "        if indice > 25:\n",
    "            indice = indice % 26\n",
    "        res += alpha[indice]\n",
    "    return res\n",
    " \n",
    " \n",
    "print(crypter_mc(\"AZURE\"))"
   ]
  },
  {
   "cell_type": "code",
   "execution_count": null,
   "id": "84332f25",
   "metadata": {},
   "outputs": [],
   "source": []
  }
 ],
 "metadata": {
  "kernelspec": {
   "display_name": "Python 3 (ipykernel)",
   "language": "python",
   "name": "python3"
  },
  "language_info": {
   "codemirror_mode": {
    "name": "ipython",
    "version": 3
   },
   "file_extension": ".py",
   "mimetype": "text/x-python",
   "name": "python",
   "nbconvert_exporter": "python",
   "pygments_lexer": "ipython3",
   "version": "3.10.9"
  }
 },
 "nbformat": 4,
 "nbformat_minor": 5
}
